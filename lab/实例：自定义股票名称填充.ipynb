{
 "cells": [
  {
   "cell_type": "code",
   "execution_count": 5,
   "metadata": {
    "collapsed": true,
    "pycharm": {
     "name": "#%%\n"
    }
   },
   "outputs": [
    {
     "data": {
      "text/plain": "        ts_code trade_date   open   high    low  close  pre_close        vol  \\\n0     000010.SZ 1995-10-27  15.38  17.98  12.50  14.08       2.50  131217.00   \n1     000010.SZ 1995-10-30  13.10  13.45  12.00  12.74      14.08   50333.00   \n2     000010.SZ 1995-10-31  11.98  12.69  10.35  10.50      12.74   50178.00   \n3     000010.SZ 1995-11-01  10.30  10.40   9.50   9.85      10.50   26205.00   \n4     000010.SZ 1995-11-02   9.82  10.48   9.60  10.00       9.85   12835.00   \n...         ...        ...    ...    ...    ...    ...        ...        ...   \n6231  000010.SZ 2021-07-05   3.93   3.95   3.90   3.93       3.91   30395.00   \n6232  000010.SZ 2021-07-06   3.93   3.95   3.91   3.92       3.93   31330.00   \n6233  000010.SZ 2021-07-07   3.92   3.94   3.90   3.92       3.92   26279.55   \n6234  000010.SZ 2021-07-08   3.93   3.93   3.89   3.89       3.92   30708.00   \n6235  000010.SZ 2021-07-09   3.89   3.92   3.88   3.91       3.89   32597.00   \n\n          amount  name  ...  open_limit  pct_change  open_buy_pct_change  \\\n0     183899.786  深华新A  ...        True    4.632000            -0.084525   \n1      63639.922  深华新A  ...       False   -0.095170            -0.027481   \n2      55388.241  深华新A  ...       False   -0.175824            -0.123539   \n3      26842.250  深华新A  ...       False   -0.061905            -0.043689   \n4      12951.720  深华新A  ...       False    0.015228             0.018330   \n...          ...   ...  ...         ...         ...                  ...   \n6231   11922.065  美丽生态  ...       False    0.005115             0.000000   \n6232   12288.940  美丽生态  ...       False   -0.002545            -0.002545   \n6233   10284.103  美丽生态  ...       False    0.000000             0.000000   \n6234   11992.886  美丽生态  ...       False   -0.007653            -0.010178   \n6235   12710.013  美丽生态  ...       False    0.005141             0.005141   \n\n     index_code index_close  index_open  index_high  index_low  \\\n0     000001.SH    722.3700    730.9600    735.0600   721.4700   \n1     000001.SH    722.7800    722.8600    724.5700   719.2400   \n2     000001.SH    717.3200    723.4300    726.4900   715.4000   \n3     000001.SH    723.3900    716.4600    727.5000   712.2700   \n4     000001.SH    721.7000    723.9600    728.3500   719.1400   \n...         ...         ...         ...         ...        ...   \n6231  000001.SH   3534.3222   3516.9228   3534.3222  3510.5781   \n6232  000001.SH   3530.2589   3533.1304   3538.3470  3496.9276   \n6233  000001.SH   3553.7155   3508.5901   3557.8790  3504.4723   \n6234  000001.SH   3525.5039   3557.2177   3558.6772  3521.0579   \n6235  000001.SH   3524.0881   3512.2334   3529.3098  3485.0543   \n\n      index_pre_close  traded  \n0            731.4700       1  \n1            722.3700       1  \n2            722.7800       1  \n3            717.3200       1  \n4            723.3900       1  \n...               ...     ...  \n6231        3518.7595       1  \n6232        3534.3222       1  \n6233        3530.2589       1  \n6234        3553.7155       1  \n6235        3525.5039       1  \n\n[6236 rows x 24 columns]",
      "text/html": "<div>\n<style scoped>\n    .dataframe tbody tr th:only-of-type {\n        vertical-align: middle;\n    }\n\n    .dataframe tbody tr th {\n        vertical-align: top;\n    }\n\n    .dataframe thead th {\n        text-align: right;\n    }\n</style>\n<table border=\"1\" class=\"dataframe\">\n  <thead>\n    <tr style=\"text-align: right;\">\n      <th></th>\n      <th>ts_code</th>\n      <th>trade_date</th>\n      <th>open</th>\n      <th>high</th>\n      <th>low</th>\n      <th>close</th>\n      <th>pre_close</th>\n      <th>vol</th>\n      <th>amount</th>\n      <th>name</th>\n      <th>...</th>\n      <th>open_limit</th>\n      <th>pct_change</th>\n      <th>open_buy_pct_change</th>\n      <th>index_code</th>\n      <th>index_close</th>\n      <th>index_open</th>\n      <th>index_high</th>\n      <th>index_low</th>\n      <th>index_pre_close</th>\n      <th>traded</th>\n    </tr>\n  </thead>\n  <tbody>\n    <tr>\n      <th>0</th>\n      <td>000010.SZ</td>\n      <td>1995-10-27</td>\n      <td>15.38</td>\n      <td>17.98</td>\n      <td>12.50</td>\n      <td>14.08</td>\n      <td>2.50</td>\n      <td>131217.00</td>\n      <td>183899.786</td>\n      <td>深华新A</td>\n      <td>...</td>\n      <td>True</td>\n      <td>4.632000</td>\n      <td>-0.084525</td>\n      <td>000001.SH</td>\n      <td>722.3700</td>\n      <td>730.9600</td>\n      <td>735.0600</td>\n      <td>721.4700</td>\n      <td>731.4700</td>\n      <td>1</td>\n    </tr>\n    <tr>\n      <th>1</th>\n      <td>000010.SZ</td>\n      <td>1995-10-30</td>\n      <td>13.10</td>\n      <td>13.45</td>\n      <td>12.00</td>\n      <td>12.74</td>\n      <td>14.08</td>\n      <td>50333.00</td>\n      <td>63639.922</td>\n      <td>深华新A</td>\n      <td>...</td>\n      <td>False</td>\n      <td>-0.095170</td>\n      <td>-0.027481</td>\n      <td>000001.SH</td>\n      <td>722.7800</td>\n      <td>722.8600</td>\n      <td>724.5700</td>\n      <td>719.2400</td>\n      <td>722.3700</td>\n      <td>1</td>\n    </tr>\n    <tr>\n      <th>2</th>\n      <td>000010.SZ</td>\n      <td>1995-10-31</td>\n      <td>11.98</td>\n      <td>12.69</td>\n      <td>10.35</td>\n      <td>10.50</td>\n      <td>12.74</td>\n      <td>50178.00</td>\n      <td>55388.241</td>\n      <td>深华新A</td>\n      <td>...</td>\n      <td>False</td>\n      <td>-0.175824</td>\n      <td>-0.123539</td>\n      <td>000001.SH</td>\n      <td>717.3200</td>\n      <td>723.4300</td>\n      <td>726.4900</td>\n      <td>715.4000</td>\n      <td>722.7800</td>\n      <td>1</td>\n    </tr>\n    <tr>\n      <th>3</th>\n      <td>000010.SZ</td>\n      <td>1995-11-01</td>\n      <td>10.30</td>\n      <td>10.40</td>\n      <td>9.50</td>\n      <td>9.85</td>\n      <td>10.50</td>\n      <td>26205.00</td>\n      <td>26842.250</td>\n      <td>深华新A</td>\n      <td>...</td>\n      <td>False</td>\n      <td>-0.061905</td>\n      <td>-0.043689</td>\n      <td>000001.SH</td>\n      <td>723.3900</td>\n      <td>716.4600</td>\n      <td>727.5000</td>\n      <td>712.2700</td>\n      <td>717.3200</td>\n      <td>1</td>\n    </tr>\n    <tr>\n      <th>4</th>\n      <td>000010.SZ</td>\n      <td>1995-11-02</td>\n      <td>9.82</td>\n      <td>10.48</td>\n      <td>9.60</td>\n      <td>10.00</td>\n      <td>9.85</td>\n      <td>12835.00</td>\n      <td>12951.720</td>\n      <td>深华新A</td>\n      <td>...</td>\n      <td>False</td>\n      <td>0.015228</td>\n      <td>0.018330</td>\n      <td>000001.SH</td>\n      <td>721.7000</td>\n      <td>723.9600</td>\n      <td>728.3500</td>\n      <td>719.1400</td>\n      <td>723.3900</td>\n      <td>1</td>\n    </tr>\n    <tr>\n      <th>...</th>\n      <td>...</td>\n      <td>...</td>\n      <td>...</td>\n      <td>...</td>\n      <td>...</td>\n      <td>...</td>\n      <td>...</td>\n      <td>...</td>\n      <td>...</td>\n      <td>...</td>\n      <td>...</td>\n      <td>...</td>\n      <td>...</td>\n      <td>...</td>\n      <td>...</td>\n      <td>...</td>\n      <td>...</td>\n      <td>...</td>\n      <td>...</td>\n      <td>...</td>\n      <td>...</td>\n    </tr>\n    <tr>\n      <th>6231</th>\n      <td>000010.SZ</td>\n      <td>2021-07-05</td>\n      <td>3.93</td>\n      <td>3.95</td>\n      <td>3.90</td>\n      <td>3.93</td>\n      <td>3.91</td>\n      <td>30395.00</td>\n      <td>11922.065</td>\n      <td>美丽生态</td>\n      <td>...</td>\n      <td>False</td>\n      <td>0.005115</td>\n      <td>0.000000</td>\n      <td>000001.SH</td>\n      <td>3534.3222</td>\n      <td>3516.9228</td>\n      <td>3534.3222</td>\n      <td>3510.5781</td>\n      <td>3518.7595</td>\n      <td>1</td>\n    </tr>\n    <tr>\n      <th>6232</th>\n      <td>000010.SZ</td>\n      <td>2021-07-06</td>\n      <td>3.93</td>\n      <td>3.95</td>\n      <td>3.91</td>\n      <td>3.92</td>\n      <td>3.93</td>\n      <td>31330.00</td>\n      <td>12288.940</td>\n      <td>美丽生态</td>\n      <td>...</td>\n      <td>False</td>\n      <td>-0.002545</td>\n      <td>-0.002545</td>\n      <td>000001.SH</td>\n      <td>3530.2589</td>\n      <td>3533.1304</td>\n      <td>3538.3470</td>\n      <td>3496.9276</td>\n      <td>3534.3222</td>\n      <td>1</td>\n    </tr>\n    <tr>\n      <th>6233</th>\n      <td>000010.SZ</td>\n      <td>2021-07-07</td>\n      <td>3.92</td>\n      <td>3.94</td>\n      <td>3.90</td>\n      <td>3.92</td>\n      <td>3.92</td>\n      <td>26279.55</td>\n      <td>10284.103</td>\n      <td>美丽生态</td>\n      <td>...</td>\n      <td>False</td>\n      <td>0.000000</td>\n      <td>0.000000</td>\n      <td>000001.SH</td>\n      <td>3553.7155</td>\n      <td>3508.5901</td>\n      <td>3557.8790</td>\n      <td>3504.4723</td>\n      <td>3530.2589</td>\n      <td>1</td>\n    </tr>\n    <tr>\n      <th>6234</th>\n      <td>000010.SZ</td>\n      <td>2021-07-08</td>\n      <td>3.93</td>\n      <td>3.93</td>\n      <td>3.89</td>\n      <td>3.89</td>\n      <td>3.92</td>\n      <td>30708.00</td>\n      <td>11992.886</td>\n      <td>美丽生态</td>\n      <td>...</td>\n      <td>False</td>\n      <td>-0.007653</td>\n      <td>-0.010178</td>\n      <td>000001.SH</td>\n      <td>3525.5039</td>\n      <td>3557.2177</td>\n      <td>3558.6772</td>\n      <td>3521.0579</td>\n      <td>3553.7155</td>\n      <td>1</td>\n    </tr>\n    <tr>\n      <th>6235</th>\n      <td>000010.SZ</td>\n      <td>2021-07-09</td>\n      <td>3.89</td>\n      <td>3.92</td>\n      <td>3.88</td>\n      <td>3.91</td>\n      <td>3.89</td>\n      <td>32597.00</td>\n      <td>12710.013</td>\n      <td>美丽生态</td>\n      <td>...</td>\n      <td>False</td>\n      <td>0.005141</td>\n      <td>0.005141</td>\n      <td>000001.SH</td>\n      <td>3524.0881</td>\n      <td>3512.2334</td>\n      <td>3529.3098</td>\n      <td>3485.0543</td>\n      <td>3525.5039</td>\n      <td>1</td>\n    </tr>\n  </tbody>\n</table>\n<p>6236 rows × 24 columns</p>\n</div>"
     },
     "execution_count": 5,
     "metadata": {},
     "output_type": "execute_result"
    }
   ],
   "source": [
    "from acquire import stock\n",
    "from strategy import elementary as ele\n",
    "\n",
    "root = \"../data_store/\"\n",
    "ts_code = \"000010.SZ\"\n",
    "price = stock.Location(root=root, ts_code=ts_code).get_single_data()\n",
    "basic = stock.Location(root=root, ts_code=ts_code, kind=\"basic\").get_single_data()\n",
    "name = stock.Single(ts_code=ts_code, start_date=\"19900101\").get_name_change_list()\n",
    "ele_basic = ele.BasicReduction(price=price, name=name, basic=basic)\n",
    "df = ele_basic.index_merged\n",
    "df"
   ]
  },
  {
   "cell_type": "code",
   "execution_count": 6,
   "outputs": [
    {
     "data": {
      "text/plain": "(6236, 24)"
     },
     "execution_count": 6,
     "metadata": {},
     "output_type": "execute_result"
    }
   ],
   "source": [
    "df.shape"
   ],
   "metadata": {
    "collapsed": false,
    "pycharm": {
     "name": "#%%\n"
    }
   }
  },
  {
   "cell_type": "code",
   "execution_count": 7,
   "outputs": [
    {
     "data": {
      "text/plain": "(5231, 9)"
     },
     "execution_count": 7,
     "metadata": {},
     "output_type": "execute_result"
    }
   ],
   "source": [
    "price.shape"
   ],
   "metadata": {
    "collapsed": false,
    "pycharm": {
     "name": "#%%\n"
    }
   }
  },
  {
   "cell_type": "code",
   "execution_count": 7,
   "outputs": [],
   "source": [],
   "metadata": {
    "collapsed": false,
    "pycharm": {
     "name": "#%%\n"
    }
   }
  }
 ],
 "metadata": {
  "kernelspec": {
   "display_name": "Python 3",
   "language": "python",
   "name": "python3"
  },
  "language_info": {
   "codemirror_mode": {
    "name": "ipython",
    "version": 2
   },
   "file_extension": ".py",
   "mimetype": "text/x-python",
   "name": "python",
   "nbconvert_exporter": "python",
   "pygments_lexer": "ipython2",
   "version": "2.7.6"
  }
 },
 "nbformat": 4,
 "nbformat_minor": 0
}