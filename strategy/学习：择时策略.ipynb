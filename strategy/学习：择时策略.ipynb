{
 "cells": [
  {
   "cell_type": "markdown",
   "metadata": {
    "collapsed": true,
    "pycharm": {
     "name": "#%% md\n"
    }
   },
   "source": [
    "# 择时策略\n",
    "什么是择时策略？\n",
    "> 根据价格走势，选择时机买入卖出\n",
    "\n",
    "eg: 通过一个简单的案例策略，来演示择时策略"
   ]
  },
  {
   "cell_type": "markdown",
   "source": [
    "## 步骤：\n",
    "### 一、 导入数据\n"
   ],
   "metadata": {
    "collapsed": false,
    "pycharm": {
     "name": "#%% md\n"
    }
   }
  },
  {
   "cell_type": "code",
   "execution_count": 1,
   "outputs": [
    {
     "data": {
      "text/plain": "        ts_code trade_date   open   high    low  close  pre_close        vol  \\\n0     000002.SZ 1991-01-29  14.58  14.58  14.58  14.58       1.00       3.00   \n1     000002.SZ 1991-01-30  14.51  14.51  14.51  14.51      14.58      17.00   \n2     000002.SZ 1991-02-04  14.66  14.66  14.66  14.66      14.59      56.00   \n3     000002.SZ 1991-02-05  14.73  14.73  14.73  14.73      14.66      29.00   \n4     000002.SZ 1991-02-06  14.80  14.80  14.80  14.80      14.73      29.00   \n...         ...        ...    ...    ...    ...    ...        ...        ...   \n7176  000002.SZ 2021-07-13  23.84  24.14  23.73  23.84      23.82  429413.08   \n7177  000002.SZ 2021-07-14  23.81  23.88  23.20  23.21      23.84  748482.33   \n7178  000002.SZ 2021-07-15  23.21  23.73  23.01  23.52      23.21  639812.43   \n7179  000002.SZ 2021-07-16  23.40  24.05  23.35  23.95      23.52  643153.72   \n7180  000002.SZ 2021-07-19  23.88  23.89  23.27  23.48      23.95  578645.57   \n\n           amount  \n0          22.000  \n1         123.000  \n2         410.000  \n3         213.000  \n4         215.000  \n...           ...  \n7176  1026027.218  \n7177  1753035.681  \n7178  1498254.942  \n7179  1534958.952  \n7180  1355079.894  \n\n[7181 rows x 9 columns]",
      "text/html": "<div>\n<style scoped>\n    .dataframe tbody tr th:only-of-type {\n        vertical-align: middle;\n    }\n\n    .dataframe tbody tr th {\n        vertical-align: top;\n    }\n\n    .dataframe thead th {\n        text-align: right;\n    }\n</style>\n<table border=\"1\" class=\"dataframe\">\n  <thead>\n    <tr style=\"text-align: right;\">\n      <th></th>\n      <th>ts_code</th>\n      <th>trade_date</th>\n      <th>open</th>\n      <th>high</th>\n      <th>low</th>\n      <th>close</th>\n      <th>pre_close</th>\n      <th>vol</th>\n      <th>amount</th>\n    </tr>\n  </thead>\n  <tbody>\n    <tr>\n      <th>0</th>\n      <td>000002.SZ</td>\n      <td>1991-01-29</td>\n      <td>14.58</td>\n      <td>14.58</td>\n      <td>14.58</td>\n      <td>14.58</td>\n      <td>1.00</td>\n      <td>3.00</td>\n      <td>22.000</td>\n    </tr>\n    <tr>\n      <th>1</th>\n      <td>000002.SZ</td>\n      <td>1991-01-30</td>\n      <td>14.51</td>\n      <td>14.51</td>\n      <td>14.51</td>\n      <td>14.51</td>\n      <td>14.58</td>\n      <td>17.00</td>\n      <td>123.000</td>\n    </tr>\n    <tr>\n      <th>2</th>\n      <td>000002.SZ</td>\n      <td>1991-02-04</td>\n      <td>14.66</td>\n      <td>14.66</td>\n      <td>14.66</td>\n      <td>14.66</td>\n      <td>14.59</td>\n      <td>56.00</td>\n      <td>410.000</td>\n    </tr>\n    <tr>\n      <th>3</th>\n      <td>000002.SZ</td>\n      <td>1991-02-05</td>\n      <td>14.73</td>\n      <td>14.73</td>\n      <td>14.73</td>\n      <td>14.73</td>\n      <td>14.66</td>\n      <td>29.00</td>\n      <td>213.000</td>\n    </tr>\n    <tr>\n      <th>4</th>\n      <td>000002.SZ</td>\n      <td>1991-02-06</td>\n      <td>14.80</td>\n      <td>14.80</td>\n      <td>14.80</td>\n      <td>14.80</td>\n      <td>14.73</td>\n      <td>29.00</td>\n      <td>215.000</td>\n    </tr>\n    <tr>\n      <th>...</th>\n      <td>...</td>\n      <td>...</td>\n      <td>...</td>\n      <td>...</td>\n      <td>...</td>\n      <td>...</td>\n      <td>...</td>\n      <td>...</td>\n      <td>...</td>\n    </tr>\n    <tr>\n      <th>7176</th>\n      <td>000002.SZ</td>\n      <td>2021-07-13</td>\n      <td>23.84</td>\n      <td>24.14</td>\n      <td>23.73</td>\n      <td>23.84</td>\n      <td>23.82</td>\n      <td>429413.08</td>\n      <td>1026027.218</td>\n    </tr>\n    <tr>\n      <th>7177</th>\n      <td>000002.SZ</td>\n      <td>2021-07-14</td>\n      <td>23.81</td>\n      <td>23.88</td>\n      <td>23.20</td>\n      <td>23.21</td>\n      <td>23.84</td>\n      <td>748482.33</td>\n      <td>1753035.681</td>\n    </tr>\n    <tr>\n      <th>7178</th>\n      <td>000002.SZ</td>\n      <td>2021-07-15</td>\n      <td>23.21</td>\n      <td>23.73</td>\n      <td>23.01</td>\n      <td>23.52</td>\n      <td>23.21</td>\n      <td>639812.43</td>\n      <td>1498254.942</td>\n    </tr>\n    <tr>\n      <th>7179</th>\n      <td>000002.SZ</td>\n      <td>2021-07-16</td>\n      <td>23.40</td>\n      <td>24.05</td>\n      <td>23.35</td>\n      <td>23.95</td>\n      <td>23.52</td>\n      <td>643153.72</td>\n      <td>1534958.952</td>\n    </tr>\n    <tr>\n      <th>7180</th>\n      <td>000002.SZ</td>\n      <td>2021-07-19</td>\n      <td>23.88</td>\n      <td>23.89</td>\n      <td>23.27</td>\n      <td>23.48</td>\n      <td>23.95</td>\n      <td>578645.57</td>\n      <td>1355079.894</td>\n    </tr>\n  </tbody>\n</table>\n<p>7181 rows × 9 columns</p>\n</div>"
     },
     "execution_count": 1,
     "metadata": {},
     "output_type": "execute_result"
    }
   ],
   "source": [
    "from util import location\n",
    "\n",
    "ts_code = \"000002.SZ\"\n",
    "root = \"../data_store/\"\n",
    "df = location.read_from_csv(ts_code=ts_code,root=root)\n",
    "df"
   ],
   "metadata": {
    "collapsed": false,
    "pycharm": {
     "name": "#%%\n"
    }
   }
  },
  {
   "cell_type": "markdown",
   "source": [
    "### 二、计算复权价"
   ],
   "metadata": {
    "collapsed": false,
    "pycharm": {
     "name": "#%% md\n"
    }
   }
  },
  {
   "cell_type": "code",
   "execution_count": 2,
   "outputs": [
    {
     "data": {
      "text/plain": "        ts_code trade_date   open   high    low  close  pre_close        vol  \\\n0     000002.SZ 1991-01-29  14.58  14.58  14.58  14.58       1.00       3.00   \n1     000002.SZ 1991-01-30  14.51  14.51  14.51  14.51      14.58      17.00   \n2     000002.SZ 1991-02-04  14.66  14.66  14.66  14.66      14.59      56.00   \n3     000002.SZ 1991-02-05  14.73  14.73  14.73  14.73      14.66      29.00   \n4     000002.SZ 1991-02-06  14.80  14.80  14.80  14.80      14.73      29.00   \n...         ...        ...    ...    ...    ...    ...        ...        ...   \n7176  000002.SZ 2021-07-13  23.84  24.14  23.73  23.84      23.82  429413.08   \n7177  000002.SZ 2021-07-14  23.81  23.88  23.20  23.21      23.84  748482.33   \n7178  000002.SZ 2021-07-15  23.21  23.73  23.01  23.52      23.21  639812.43   \n7179  000002.SZ 2021-07-16  23.40  24.05  23.35  23.95      23.52  643153.72   \n7180  000002.SZ 2021-07-19  23.88  23.89  23.27  23.48      23.95  578645.57   \n\n           amount  pct_change   adj_factor    hfq_close  qfq_close   qfq_open  \\\n0          22.000   13.580000    14.580000    14.580000   0.094736   0.094736   \n1         123.000   -0.004801    14.510000    14.510000   0.094282   0.094282   \n2         410.000    0.004798    14.579616    14.579616   0.094734   0.094734   \n3         213.000    0.004775    14.649232    14.649232   0.095186   0.095186   \n4         215.000    0.004752    14.718849    14.718849   0.095639   0.095639   \n...           ...         ...          ...          ...        ...        ...   \n7176  1026027.218    0.000840  3668.992104  3668.992104  23.840000  23.840000   \n7177  1753035.681   -0.026426  3572.034679  3572.034679  23.210000  23.810000   \n7178  1498254.942    0.013356  3619.743888  3619.743888  23.520000  23.210000   \n7179  1534958.952    0.018282  3685.921178  3685.921178  23.950000  23.400000   \n7180  1355079.894   -0.019624  3613.587861  3613.587861  23.480000  23.880000   \n\n       qfq_high    qfq_low     hfq_open     hfq_high      hfq_low  \n0      0.094736   0.094736    14.580000    14.580000    14.580000  \n1      0.094282   0.094282    14.510000    14.510000    14.510000  \n2      0.094734   0.094734    14.579616    14.579616    14.579616  \n3      0.095186   0.095186    14.649232    14.649232    14.649232  \n4      0.095639   0.095639    14.718849    14.718849    14.718849  \n...         ...        ...          ...          ...          ...  \n7176  23.840000  23.840000  3668.992104  3668.992104  3668.992104  \n7177  23.210000  23.210000  3664.375084  3572.034679  3572.034679  \n7178  23.520000  23.520000  3572.034679  3619.743888  3619.743888  \n7179  23.950000  23.950000  3601.275807  3685.921178  3685.921178  \n7180  23.480000  23.480000  3675.148131  3613.587861  3613.587861  \n\n[7181 rows x 19 columns]",
      "text/html": "<div>\n<style scoped>\n    .dataframe tbody tr th:only-of-type {\n        vertical-align: middle;\n    }\n\n    .dataframe tbody tr th {\n        vertical-align: top;\n    }\n\n    .dataframe thead th {\n        text-align: right;\n    }\n</style>\n<table border=\"1\" class=\"dataframe\">\n  <thead>\n    <tr style=\"text-align: right;\">\n      <th></th>\n      <th>ts_code</th>\n      <th>trade_date</th>\n      <th>open</th>\n      <th>high</th>\n      <th>low</th>\n      <th>close</th>\n      <th>pre_close</th>\n      <th>vol</th>\n      <th>amount</th>\n      <th>pct_change</th>\n      <th>adj_factor</th>\n      <th>hfq_close</th>\n      <th>qfq_close</th>\n      <th>qfq_open</th>\n      <th>qfq_high</th>\n      <th>qfq_low</th>\n      <th>hfq_open</th>\n      <th>hfq_high</th>\n      <th>hfq_low</th>\n    </tr>\n  </thead>\n  <tbody>\n    <tr>\n      <th>0</th>\n      <td>000002.SZ</td>\n      <td>1991-01-29</td>\n      <td>14.58</td>\n      <td>14.58</td>\n      <td>14.58</td>\n      <td>14.58</td>\n      <td>1.00</td>\n      <td>3.00</td>\n      <td>22.000</td>\n      <td>13.580000</td>\n      <td>14.580000</td>\n      <td>14.580000</td>\n      <td>0.094736</td>\n      <td>0.094736</td>\n      <td>0.094736</td>\n      <td>0.094736</td>\n      <td>14.580000</td>\n      <td>14.580000</td>\n      <td>14.580000</td>\n    </tr>\n    <tr>\n      <th>1</th>\n      <td>000002.SZ</td>\n      <td>1991-01-30</td>\n      <td>14.51</td>\n      <td>14.51</td>\n      <td>14.51</td>\n      <td>14.51</td>\n      <td>14.58</td>\n      <td>17.00</td>\n      <td>123.000</td>\n      <td>-0.004801</td>\n      <td>14.510000</td>\n      <td>14.510000</td>\n      <td>0.094282</td>\n      <td>0.094282</td>\n      <td>0.094282</td>\n      <td>0.094282</td>\n      <td>14.510000</td>\n      <td>14.510000</td>\n      <td>14.510000</td>\n    </tr>\n    <tr>\n      <th>2</th>\n      <td>000002.SZ</td>\n      <td>1991-02-04</td>\n      <td>14.66</td>\n      <td>14.66</td>\n      <td>14.66</td>\n      <td>14.66</td>\n      <td>14.59</td>\n      <td>56.00</td>\n      <td>410.000</td>\n      <td>0.004798</td>\n      <td>14.579616</td>\n      <td>14.579616</td>\n      <td>0.094734</td>\n      <td>0.094734</td>\n      <td>0.094734</td>\n      <td>0.094734</td>\n      <td>14.579616</td>\n      <td>14.579616</td>\n      <td>14.579616</td>\n    </tr>\n    <tr>\n      <th>3</th>\n      <td>000002.SZ</td>\n      <td>1991-02-05</td>\n      <td>14.73</td>\n      <td>14.73</td>\n      <td>14.73</td>\n      <td>14.73</td>\n      <td>14.66</td>\n      <td>29.00</td>\n      <td>213.000</td>\n      <td>0.004775</td>\n      <td>14.649232</td>\n      <td>14.649232</td>\n      <td>0.095186</td>\n      <td>0.095186</td>\n      <td>0.095186</td>\n      <td>0.095186</td>\n      <td>14.649232</td>\n      <td>14.649232</td>\n      <td>14.649232</td>\n    </tr>\n    <tr>\n      <th>4</th>\n      <td>000002.SZ</td>\n      <td>1991-02-06</td>\n      <td>14.80</td>\n      <td>14.80</td>\n      <td>14.80</td>\n      <td>14.80</td>\n      <td>14.73</td>\n      <td>29.00</td>\n      <td>215.000</td>\n      <td>0.004752</td>\n      <td>14.718849</td>\n      <td>14.718849</td>\n      <td>0.095639</td>\n      <td>0.095639</td>\n      <td>0.095639</td>\n      <td>0.095639</td>\n      <td>14.718849</td>\n      <td>14.718849</td>\n      <td>14.718849</td>\n    </tr>\n    <tr>\n      <th>...</th>\n      <td>...</td>\n      <td>...</td>\n      <td>...</td>\n      <td>...</td>\n      <td>...</td>\n      <td>...</td>\n      <td>...</td>\n      <td>...</td>\n      <td>...</td>\n      <td>...</td>\n      <td>...</td>\n      <td>...</td>\n      <td>...</td>\n      <td>...</td>\n      <td>...</td>\n      <td>...</td>\n      <td>...</td>\n      <td>...</td>\n      <td>...</td>\n    </tr>\n    <tr>\n      <th>7176</th>\n      <td>000002.SZ</td>\n      <td>2021-07-13</td>\n      <td>23.84</td>\n      <td>24.14</td>\n      <td>23.73</td>\n      <td>23.84</td>\n      <td>23.82</td>\n      <td>429413.08</td>\n      <td>1026027.218</td>\n      <td>0.000840</td>\n      <td>3668.992104</td>\n      <td>3668.992104</td>\n      <td>23.840000</td>\n      <td>23.840000</td>\n      <td>23.840000</td>\n      <td>23.840000</td>\n      <td>3668.992104</td>\n      <td>3668.992104</td>\n      <td>3668.992104</td>\n    </tr>\n    <tr>\n      <th>7177</th>\n      <td>000002.SZ</td>\n      <td>2021-07-14</td>\n      <td>23.81</td>\n      <td>23.88</td>\n      <td>23.20</td>\n      <td>23.21</td>\n      <td>23.84</td>\n      <td>748482.33</td>\n      <td>1753035.681</td>\n      <td>-0.026426</td>\n      <td>3572.034679</td>\n      <td>3572.034679</td>\n      <td>23.210000</td>\n      <td>23.810000</td>\n      <td>23.210000</td>\n      <td>23.210000</td>\n      <td>3664.375084</td>\n      <td>3572.034679</td>\n      <td>3572.034679</td>\n    </tr>\n    <tr>\n      <th>7178</th>\n      <td>000002.SZ</td>\n      <td>2021-07-15</td>\n      <td>23.21</td>\n      <td>23.73</td>\n      <td>23.01</td>\n      <td>23.52</td>\n      <td>23.21</td>\n      <td>639812.43</td>\n      <td>1498254.942</td>\n      <td>0.013356</td>\n      <td>3619.743888</td>\n      <td>3619.743888</td>\n      <td>23.520000</td>\n      <td>23.210000</td>\n      <td>23.520000</td>\n      <td>23.520000</td>\n      <td>3572.034679</td>\n      <td>3619.743888</td>\n      <td>3619.743888</td>\n    </tr>\n    <tr>\n      <th>7179</th>\n      <td>000002.SZ</td>\n      <td>2021-07-16</td>\n      <td>23.40</td>\n      <td>24.05</td>\n      <td>23.35</td>\n      <td>23.95</td>\n      <td>23.52</td>\n      <td>643153.72</td>\n      <td>1534958.952</td>\n      <td>0.018282</td>\n      <td>3685.921178</td>\n      <td>3685.921178</td>\n      <td>23.950000</td>\n      <td>23.400000</td>\n      <td>23.950000</td>\n      <td>23.950000</td>\n      <td>3601.275807</td>\n      <td>3685.921178</td>\n      <td>3685.921178</td>\n    </tr>\n    <tr>\n      <th>7180</th>\n      <td>000002.SZ</td>\n      <td>2021-07-19</td>\n      <td>23.88</td>\n      <td>23.89</td>\n      <td>23.27</td>\n      <td>23.48</td>\n      <td>23.95</td>\n      <td>578645.57</td>\n      <td>1355079.894</td>\n      <td>-0.019624</td>\n      <td>3613.587861</td>\n      <td>3613.587861</td>\n      <td>23.480000</td>\n      <td>23.880000</td>\n      <td>23.480000</td>\n      <td>23.480000</td>\n      <td>3675.148131</td>\n      <td>3613.587861</td>\n      <td>3613.587861</td>\n    </tr>\n  </tbody>\n</table>\n<p>7181 rows × 19 columns</p>\n</div>"
     },
     "execution_count": 2,
     "metadata": {},
     "output_type": "execute_result"
    }
   ],
   "source": [
    "from acquire import stock\n",
    "\n",
    "df = stock.Indicators(df=df).adj_price\n",
    "df"
   ],
   "metadata": {
    "collapsed": false,
    "pycharm": {
     "name": "#%%\n"
    }
   }
  },
  {
   "cell_type": "markdown",
   "source": [
    "### 三、计算涨跌停价格\n",
    "1. 获取股票历史名称（因为st股的涨跌幅是不同的，科创板涨跌幅也是不同的）\n",
    "2. 对涨跌停特征列的每一行用函数：\n",
    "```\n",
    "from decimal import Decimal, ROUND_HALF_UP\n",
    ".apply(lambda x: float(Decimal(x * 100).quantize(Decimal('1'), rounding=ROUND_HALF_UP) / 100))\n",
    "```\n",
    "\n",
    "### 四、选择策略进行回测分析\n",
    "- 我们这里使用移动平均线的算法作为举例"
   ],
   "metadata": {
    "collapsed": false,
    "pycharm": {
     "name": "#%% md\n"
    }
   }
  },
  {
   "cell_type": "code",
   "execution_count": null,
   "outputs": [],
   "source": [],
   "metadata": {
    "collapsed": false,
    "pycharm": {
     "name": "#%%\n"
    }
   }
  }
 ],
 "metadata": {
  "kernelspec": {
   "display_name": "Python 3",
   "language": "python",
   "name": "python3"
  },
  "language_info": {
   "codemirror_mode": {
    "name": "ipython",
    "version": 2
   },
   "file_extension": ".py",
   "mimetype": "text/x-python",
   "name": "python",
   "nbconvert_exporter": "python",
   "pygments_lexer": "ipython2",
   "version": "2.7.6"
  }
 },
 "nbformat": 4,
 "nbformat_minor": 0
}