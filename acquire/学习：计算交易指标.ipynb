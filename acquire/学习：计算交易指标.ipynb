{
 "cells": [
  {
   "cell_type": "markdown",
   "metadata": {
    "collapsed": true,
    "pycharm": {
     "name": "#%% md\n"
    }
   },
   "source": [
    "# 计算交易指标：\n",
    "## 一、 导入股票price基础数据"
   ]
  },
  {
   "cell_type": "code",
   "execution_count": 1,
   "outputs": [
    {
     "data": {
      "text/plain": "        ts_code trade_date   open   high    low  close  pre_close        vol  \\\n0     600276.SH 2000-10-18  26.88  28.45  26.50  27.70      11.98  271930.00   \n1     600276.SH 2000-10-19  27.61  28.19  27.01  27.21      27.70   77476.00   \n2     600276.SH 2000-10-20  26.98  27.88  26.30  27.75      27.21   51195.00   \n3     600276.SH 2000-10-23  27.88  28.09  27.40  27.90      27.75   21437.00   \n4     600276.SH 2000-10-24  27.98  28.56  27.61  28.28      27.90   26559.00   \n...         ...        ...    ...    ...    ...    ...        ...        ...   \n4979  600276.SH 2021-07-07  62.29  63.49  62.26  62.45      62.06  421309.78   \n4980  600276.SH 2021-07-08  62.46  62.88  61.17  61.37      62.45  376692.99   \n4981  600276.SH 2021-07-09  61.02  62.32  60.90  62.10      61.37  317139.65   \n4982  600276.SH 2021-07-12  63.50  64.50  62.99  63.12      62.10  599866.95   \n4983  600276.SH 2021-07-13  63.12  63.41  61.76  61.94      63.12  381454.68   \n\n           amount  \n0      748996.054  \n1      214900.952  \n2      138248.375  \n3       59486.626  \n4       74935.642  \n...           ...  \n4979  2645435.620  \n4980  2325415.956  \n4981  1956917.068  \n4982  3823509.581  \n4983  2377792.672  \n\n[4984 rows x 9 columns]",
      "text/html": "<div>\n<style scoped>\n    .dataframe tbody tr th:only-of-type {\n        vertical-align: middle;\n    }\n\n    .dataframe tbody tr th {\n        vertical-align: top;\n    }\n\n    .dataframe thead th {\n        text-align: right;\n    }\n</style>\n<table border=\"1\" class=\"dataframe\">\n  <thead>\n    <tr style=\"text-align: right;\">\n      <th></th>\n      <th>ts_code</th>\n      <th>trade_date</th>\n      <th>open</th>\n      <th>high</th>\n      <th>low</th>\n      <th>close</th>\n      <th>pre_close</th>\n      <th>vol</th>\n      <th>amount</th>\n    </tr>\n  </thead>\n  <tbody>\n    <tr>\n      <th>0</th>\n      <td>600276.SH</td>\n      <td>2000-10-18</td>\n      <td>26.88</td>\n      <td>28.45</td>\n      <td>26.50</td>\n      <td>27.70</td>\n      <td>11.98</td>\n      <td>271930.00</td>\n      <td>748996.054</td>\n    </tr>\n    <tr>\n      <th>1</th>\n      <td>600276.SH</td>\n      <td>2000-10-19</td>\n      <td>27.61</td>\n      <td>28.19</td>\n      <td>27.01</td>\n      <td>27.21</td>\n      <td>27.70</td>\n      <td>77476.00</td>\n      <td>214900.952</td>\n    </tr>\n    <tr>\n      <th>2</th>\n      <td>600276.SH</td>\n      <td>2000-10-20</td>\n      <td>26.98</td>\n      <td>27.88</td>\n      <td>26.30</td>\n      <td>27.75</td>\n      <td>27.21</td>\n      <td>51195.00</td>\n      <td>138248.375</td>\n    </tr>\n    <tr>\n      <th>3</th>\n      <td>600276.SH</td>\n      <td>2000-10-23</td>\n      <td>27.88</td>\n      <td>28.09</td>\n      <td>27.40</td>\n      <td>27.90</td>\n      <td>27.75</td>\n      <td>21437.00</td>\n      <td>59486.626</td>\n    </tr>\n    <tr>\n      <th>4</th>\n      <td>600276.SH</td>\n      <td>2000-10-24</td>\n      <td>27.98</td>\n      <td>28.56</td>\n      <td>27.61</td>\n      <td>28.28</td>\n      <td>27.90</td>\n      <td>26559.00</td>\n      <td>74935.642</td>\n    </tr>\n    <tr>\n      <th>...</th>\n      <td>...</td>\n      <td>...</td>\n      <td>...</td>\n      <td>...</td>\n      <td>...</td>\n      <td>...</td>\n      <td>...</td>\n      <td>...</td>\n      <td>...</td>\n    </tr>\n    <tr>\n      <th>4979</th>\n      <td>600276.SH</td>\n      <td>2021-07-07</td>\n      <td>62.29</td>\n      <td>63.49</td>\n      <td>62.26</td>\n      <td>62.45</td>\n      <td>62.06</td>\n      <td>421309.78</td>\n      <td>2645435.620</td>\n    </tr>\n    <tr>\n      <th>4980</th>\n      <td>600276.SH</td>\n      <td>2021-07-08</td>\n      <td>62.46</td>\n      <td>62.88</td>\n      <td>61.17</td>\n      <td>61.37</td>\n      <td>62.45</td>\n      <td>376692.99</td>\n      <td>2325415.956</td>\n    </tr>\n    <tr>\n      <th>4981</th>\n      <td>600276.SH</td>\n      <td>2021-07-09</td>\n      <td>61.02</td>\n      <td>62.32</td>\n      <td>60.90</td>\n      <td>62.10</td>\n      <td>61.37</td>\n      <td>317139.65</td>\n      <td>1956917.068</td>\n    </tr>\n    <tr>\n      <th>4982</th>\n      <td>600276.SH</td>\n      <td>2021-07-12</td>\n      <td>63.50</td>\n      <td>64.50</td>\n      <td>62.99</td>\n      <td>63.12</td>\n      <td>62.10</td>\n      <td>599866.95</td>\n      <td>3823509.581</td>\n    </tr>\n    <tr>\n      <th>4983</th>\n      <td>600276.SH</td>\n      <td>2021-07-13</td>\n      <td>63.12</td>\n      <td>63.41</td>\n      <td>61.76</td>\n      <td>61.94</td>\n      <td>63.12</td>\n      <td>381454.68</td>\n      <td>2377792.672</td>\n    </tr>\n  </tbody>\n</table>\n<p>4984 rows × 9 columns</p>\n</div>"
     },
     "execution_count": 1,
     "metadata": {},
     "output_type": "execute_result"
    }
   ],
   "source": [
    "import pandas as pd\n",
    "\n",
    "from util import location\n",
    "\n",
    "example_data = location.read_from_csv(ts_code=\"600276.SH\", root=\"../data_store/\")\n",
    "example_data"
   ],
   "metadata": {
    "collapsed": false,
    "pycharm": {
     "name": "#%%\n"
    }
   }
  },
  {
   "cell_type": "code",
   "execution_count": 2,
   "outputs": [
    {
     "data": {
      "text/plain": "ts_code               object\ntrade_date    datetime64[ns]\nopen                 float64\nhigh                 float64\nlow                  float64\nclose                float64\npre_close            float64\nvol                  float64\namount               float64\ndtype: object"
     },
     "execution_count": 2,
     "metadata": {},
     "output_type": "execute_result"
    }
   ],
   "source": [
    "example_data.dtypes"
   ],
   "metadata": {
    "collapsed": false,
    "pycharm": {
     "name": "#%%\n"
    }
   }
  },
  {
   "cell_type": "markdown",
   "source": [
    "## 二、计算股票复权价格\n",
    "1. 参考了很多数据，为了复权价格，我在尽可能的范围内将这个数据免费化\n",
    "2. 所需要得数据包括但不限于：开、高、收、低\n",
    "- 昨收（复权的价格：可从交易所直接得到的原始数据）\n",
    "- 我们所需要的价格是实际交易的价格，而不是复权之后的价格，所以选择自己计算复权价\n",
    "\n",
    "\n",
    "## 三、计算步骤："
   ],
   "metadata": {
    "collapsed": false,
    "pycharm": {
     "name": "#%% md\n"
    }
   }
  },
  {
   "cell_type": "markdown",
   "source": [
    "1. 计算涨跌幅</br>\n",
    "公式：$pc = close \\div preclose - 1$"
   ],
   "metadata": {
    "collapsed": false,
    "pycharm": {
     "name": "#%% md\n"
    }
   }
  },
  {
   "cell_type": "code",
   "execution_count": 3,
   "outputs": [
    {
     "data": {
      "text/plain": "        ts_code trade_date   open   high    low  close  pre_close        vol  \\\n0     600276.SH 2000-10-18  26.88  28.45  26.50  27.70      11.98  271930.00   \n1     600276.SH 2000-10-19  27.61  28.19  27.01  27.21      27.70   77476.00   \n2     600276.SH 2000-10-20  26.98  27.88  26.30  27.75      27.21   51195.00   \n3     600276.SH 2000-10-23  27.88  28.09  27.40  27.90      27.75   21437.00   \n4     600276.SH 2000-10-24  27.98  28.56  27.61  28.28      27.90   26559.00   \n...         ...        ...    ...    ...    ...    ...        ...        ...   \n4979  600276.SH 2021-07-07  62.29  63.49  62.26  62.45      62.06  421309.78   \n4980  600276.SH 2021-07-08  62.46  62.88  61.17  61.37      62.45  376692.99   \n4981  600276.SH 2021-07-09  61.02  62.32  60.90  62.10      61.37  317139.65   \n4982  600276.SH 2021-07-12  63.50  64.50  62.99  63.12      62.10  599866.95   \n4983  600276.SH 2021-07-13  63.12  63.41  61.76  61.94      63.12  381454.68   \n\n           amount  pct_change  \n0      748996.054    1.312187  \n1      214900.952   -0.017690  \n2      138248.375    0.019846  \n3       59486.626    0.005405  \n4       74935.642    0.013620  \n...           ...         ...  \n4979  2645435.620    0.006284  \n4980  2325415.956   -0.017294  \n4981  1956917.068    0.011895  \n4982  3823509.581    0.016425  \n4983  2377792.672   -0.018695  \n\n[4984 rows x 10 columns]",
      "text/html": "<div>\n<style scoped>\n    .dataframe tbody tr th:only-of-type {\n        vertical-align: middle;\n    }\n\n    .dataframe tbody tr th {\n        vertical-align: top;\n    }\n\n    .dataframe thead th {\n        text-align: right;\n    }\n</style>\n<table border=\"1\" class=\"dataframe\">\n  <thead>\n    <tr style=\"text-align: right;\">\n      <th></th>\n      <th>ts_code</th>\n      <th>trade_date</th>\n      <th>open</th>\n      <th>high</th>\n      <th>low</th>\n      <th>close</th>\n      <th>pre_close</th>\n      <th>vol</th>\n      <th>amount</th>\n      <th>pct_change</th>\n    </tr>\n  </thead>\n  <tbody>\n    <tr>\n      <th>0</th>\n      <td>600276.SH</td>\n      <td>2000-10-18</td>\n      <td>26.88</td>\n      <td>28.45</td>\n      <td>26.50</td>\n      <td>27.70</td>\n      <td>11.98</td>\n      <td>271930.00</td>\n      <td>748996.054</td>\n      <td>1.312187</td>\n    </tr>\n    <tr>\n      <th>1</th>\n      <td>600276.SH</td>\n      <td>2000-10-19</td>\n      <td>27.61</td>\n      <td>28.19</td>\n      <td>27.01</td>\n      <td>27.21</td>\n      <td>27.70</td>\n      <td>77476.00</td>\n      <td>214900.952</td>\n      <td>-0.017690</td>\n    </tr>\n    <tr>\n      <th>2</th>\n      <td>600276.SH</td>\n      <td>2000-10-20</td>\n      <td>26.98</td>\n      <td>27.88</td>\n      <td>26.30</td>\n      <td>27.75</td>\n      <td>27.21</td>\n      <td>51195.00</td>\n      <td>138248.375</td>\n      <td>0.019846</td>\n    </tr>\n    <tr>\n      <th>3</th>\n      <td>600276.SH</td>\n      <td>2000-10-23</td>\n      <td>27.88</td>\n      <td>28.09</td>\n      <td>27.40</td>\n      <td>27.90</td>\n      <td>27.75</td>\n      <td>21437.00</td>\n      <td>59486.626</td>\n      <td>0.005405</td>\n    </tr>\n    <tr>\n      <th>4</th>\n      <td>600276.SH</td>\n      <td>2000-10-24</td>\n      <td>27.98</td>\n      <td>28.56</td>\n      <td>27.61</td>\n      <td>28.28</td>\n      <td>27.90</td>\n      <td>26559.00</td>\n      <td>74935.642</td>\n      <td>0.013620</td>\n    </tr>\n    <tr>\n      <th>...</th>\n      <td>...</td>\n      <td>...</td>\n      <td>...</td>\n      <td>...</td>\n      <td>...</td>\n      <td>...</td>\n      <td>...</td>\n      <td>...</td>\n      <td>...</td>\n      <td>...</td>\n    </tr>\n    <tr>\n      <th>4979</th>\n      <td>600276.SH</td>\n      <td>2021-07-07</td>\n      <td>62.29</td>\n      <td>63.49</td>\n      <td>62.26</td>\n      <td>62.45</td>\n      <td>62.06</td>\n      <td>421309.78</td>\n      <td>2645435.620</td>\n      <td>0.006284</td>\n    </tr>\n    <tr>\n      <th>4980</th>\n      <td>600276.SH</td>\n      <td>2021-07-08</td>\n      <td>62.46</td>\n      <td>62.88</td>\n      <td>61.17</td>\n      <td>61.37</td>\n      <td>62.45</td>\n      <td>376692.99</td>\n      <td>2325415.956</td>\n      <td>-0.017294</td>\n    </tr>\n    <tr>\n      <th>4981</th>\n      <td>600276.SH</td>\n      <td>2021-07-09</td>\n      <td>61.02</td>\n      <td>62.32</td>\n      <td>60.90</td>\n      <td>62.10</td>\n      <td>61.37</td>\n      <td>317139.65</td>\n      <td>1956917.068</td>\n      <td>0.011895</td>\n    </tr>\n    <tr>\n      <th>4982</th>\n      <td>600276.SH</td>\n      <td>2021-07-12</td>\n      <td>63.50</td>\n      <td>64.50</td>\n      <td>62.99</td>\n      <td>63.12</td>\n      <td>62.10</td>\n      <td>599866.95</td>\n      <td>3823509.581</td>\n      <td>0.016425</td>\n    </tr>\n    <tr>\n      <th>4983</th>\n      <td>600276.SH</td>\n      <td>2021-07-13</td>\n      <td>63.12</td>\n      <td>63.41</td>\n      <td>61.76</td>\n      <td>61.94</td>\n      <td>63.12</td>\n      <td>381454.68</td>\n      <td>2377792.672</td>\n      <td>-0.018695</td>\n    </tr>\n  </tbody>\n</table>\n<p>4984 rows × 10 columns</p>\n</div>"
     },
     "execution_count": 3,
     "metadata": {},
     "output_type": "execute_result"
    }
   ],
   "source": [
    "example_data[\"pct_change\"] = example_data[\"close\"] / example_data[\"pre_close\"] - 1\n",
    "example_data"
   ],
   "metadata": {
    "collapsed": false,
    "pycharm": {
     "name": "#%%\n"
    }
   }
  },
  {
   "cell_type": "markdown",
   "source": [
    "2. 计算复权因子：假设我们用单位1去购买了股票，最终会变成多少</br>\n",
    "公式：$af = \\prod{(1 + pct_change)}$"
   ],
   "metadata": {
    "collapsed": false,
    "pycharm": {
     "name": "#%% md\n"
    }
   }
  },
  {
   "cell_type": "code",
   "execution_count": 4,
   "outputs": [
    {
     "data": {
      "text/plain": "        ts_code trade_date   open   high    low  close  pre_close        vol  \\\n0     600276.SH 2000-10-18  26.88  28.45  26.50  27.70      11.98  271930.00   \n1     600276.SH 2000-10-19  27.61  28.19  27.01  27.21      27.70   77476.00   \n2     600276.SH 2000-10-20  26.98  27.88  26.30  27.75      27.21   51195.00   \n3     600276.SH 2000-10-23  27.88  28.09  27.40  27.90      27.75   21437.00   \n4     600276.SH 2000-10-24  27.98  28.56  27.61  28.28      27.90   26559.00   \n...         ...        ...    ...    ...    ...    ...        ...        ...   \n4979  600276.SH 2021-07-07  62.29  63.49  62.26  62.45      62.06  421309.78   \n4980  600276.SH 2021-07-08  62.46  62.88  61.17  61.37      62.45  376692.99   \n4981  600276.SH 2021-07-09  61.02  62.32  60.90  62.10      61.37  317139.65   \n4982  600276.SH 2021-07-12  63.50  64.50  62.99  63.12      62.10  599866.95   \n4983  600276.SH 2021-07-13  63.12  63.41  61.76  61.94      63.12  381454.68   \n\n           amount  pct_change  adj_factor  \n0      748996.054    1.312187    2.312187  \n1      214900.952   -0.017690    2.271285  \n2      138248.375    0.019846    2.316361  \n3       59486.626    0.005405    2.328881  \n4       74935.642    0.013620    2.360601  \n...           ...         ...         ...  \n4979  2645435.620    0.006284  267.640269  \n4980  2325415.956   -0.017294  263.011743  \n4981  1956917.068    0.011895  266.140284  \n4982  3823509.581    0.016425  270.511670  \n4983  2377792.672   -0.018695  265.454576  \n\n[4984 rows x 11 columns]",
      "text/html": "<div>\n<style scoped>\n    .dataframe tbody tr th:only-of-type {\n        vertical-align: middle;\n    }\n\n    .dataframe tbody tr th {\n        vertical-align: top;\n    }\n\n    .dataframe thead th {\n        text-align: right;\n    }\n</style>\n<table border=\"1\" class=\"dataframe\">\n  <thead>\n    <tr style=\"text-align: right;\">\n      <th></th>\n      <th>ts_code</th>\n      <th>trade_date</th>\n      <th>open</th>\n      <th>high</th>\n      <th>low</th>\n      <th>close</th>\n      <th>pre_close</th>\n      <th>vol</th>\n      <th>amount</th>\n      <th>pct_change</th>\n      <th>adj_factor</th>\n    </tr>\n  </thead>\n  <tbody>\n    <tr>\n      <th>0</th>\n      <td>600276.SH</td>\n      <td>2000-10-18</td>\n      <td>26.88</td>\n      <td>28.45</td>\n      <td>26.50</td>\n      <td>27.70</td>\n      <td>11.98</td>\n      <td>271930.00</td>\n      <td>748996.054</td>\n      <td>1.312187</td>\n      <td>2.312187</td>\n    </tr>\n    <tr>\n      <th>1</th>\n      <td>600276.SH</td>\n      <td>2000-10-19</td>\n      <td>27.61</td>\n      <td>28.19</td>\n      <td>27.01</td>\n      <td>27.21</td>\n      <td>27.70</td>\n      <td>77476.00</td>\n      <td>214900.952</td>\n      <td>-0.017690</td>\n      <td>2.271285</td>\n    </tr>\n    <tr>\n      <th>2</th>\n      <td>600276.SH</td>\n      <td>2000-10-20</td>\n      <td>26.98</td>\n      <td>27.88</td>\n      <td>26.30</td>\n      <td>27.75</td>\n      <td>27.21</td>\n      <td>51195.00</td>\n      <td>138248.375</td>\n      <td>0.019846</td>\n      <td>2.316361</td>\n    </tr>\n    <tr>\n      <th>3</th>\n      <td>600276.SH</td>\n      <td>2000-10-23</td>\n      <td>27.88</td>\n      <td>28.09</td>\n      <td>27.40</td>\n      <td>27.90</td>\n      <td>27.75</td>\n      <td>21437.00</td>\n      <td>59486.626</td>\n      <td>0.005405</td>\n      <td>2.328881</td>\n    </tr>\n    <tr>\n      <th>4</th>\n      <td>600276.SH</td>\n      <td>2000-10-24</td>\n      <td>27.98</td>\n      <td>28.56</td>\n      <td>27.61</td>\n      <td>28.28</td>\n      <td>27.90</td>\n      <td>26559.00</td>\n      <td>74935.642</td>\n      <td>0.013620</td>\n      <td>2.360601</td>\n    </tr>\n    <tr>\n      <th>...</th>\n      <td>...</td>\n      <td>...</td>\n      <td>...</td>\n      <td>...</td>\n      <td>...</td>\n      <td>...</td>\n      <td>...</td>\n      <td>...</td>\n      <td>...</td>\n      <td>...</td>\n      <td>...</td>\n    </tr>\n    <tr>\n      <th>4979</th>\n      <td>600276.SH</td>\n      <td>2021-07-07</td>\n      <td>62.29</td>\n      <td>63.49</td>\n      <td>62.26</td>\n      <td>62.45</td>\n      <td>62.06</td>\n      <td>421309.78</td>\n      <td>2645435.620</td>\n      <td>0.006284</td>\n      <td>267.640269</td>\n    </tr>\n    <tr>\n      <th>4980</th>\n      <td>600276.SH</td>\n      <td>2021-07-08</td>\n      <td>62.46</td>\n      <td>62.88</td>\n      <td>61.17</td>\n      <td>61.37</td>\n      <td>62.45</td>\n      <td>376692.99</td>\n      <td>2325415.956</td>\n      <td>-0.017294</td>\n      <td>263.011743</td>\n    </tr>\n    <tr>\n      <th>4981</th>\n      <td>600276.SH</td>\n      <td>2021-07-09</td>\n      <td>61.02</td>\n      <td>62.32</td>\n      <td>60.90</td>\n      <td>62.10</td>\n      <td>61.37</td>\n      <td>317139.65</td>\n      <td>1956917.068</td>\n      <td>0.011895</td>\n      <td>266.140284</td>\n    </tr>\n    <tr>\n      <th>4982</th>\n      <td>600276.SH</td>\n      <td>2021-07-12</td>\n      <td>63.50</td>\n      <td>64.50</td>\n      <td>62.99</td>\n      <td>63.12</td>\n      <td>62.10</td>\n      <td>599866.95</td>\n      <td>3823509.581</td>\n      <td>0.016425</td>\n      <td>270.511670</td>\n    </tr>\n    <tr>\n      <th>4983</th>\n      <td>600276.SH</td>\n      <td>2021-07-13</td>\n      <td>63.12</td>\n      <td>63.41</td>\n      <td>61.76</td>\n      <td>61.94</td>\n      <td>63.12</td>\n      <td>381454.68</td>\n      <td>2377792.672</td>\n      <td>-0.018695</td>\n      <td>265.454576</td>\n    </tr>\n  </tbody>\n</table>\n<p>4984 rows × 11 columns</p>\n</div>"
     },
     "execution_count": 4,
     "metadata": {},
     "output_type": "execute_result"
    }
   ],
   "source": [
    "example_data[\"adj_factor\"] = (1 + example_data[\"pct_change\"]).cumprod()\n",
    "example_data"
   ],
   "metadata": {
    "collapsed": false,
    "pycharm": {
     "name": "#%%\n"
    }
   }
  },
  {
   "cell_type": "markdown",
   "source": [
    "# 自己实现的类计算复权价\n"
   ],
   "metadata": {
    "collapsed": false,
    "pycharm": {
     "name": "#%% md\n"
    }
   }
  },
  {
   "cell_type": "code",
   "execution_count": 5,
   "outputs": [
    {
     "data": {
      "text/plain": "        ts_code trade_date   open   high    low  close  pre_close        vol  \\\n0     600276.SH 2000-10-18  26.88  28.45  26.50  27.70      11.98  271930.00   \n1     600276.SH 2000-10-19  27.61  28.19  27.01  27.21      27.70   77476.00   \n2     600276.SH 2000-10-20  26.98  27.88  26.30  27.75      27.21   51195.00   \n3     600276.SH 2000-10-23  27.88  28.09  27.40  27.90      27.75   21437.00   \n4     600276.SH 2000-10-24  27.98  28.56  27.61  28.28      27.90   26559.00   \n...         ...        ...    ...    ...    ...    ...        ...        ...   \n4979  600276.SH 2021-07-07  62.29  63.49  62.26  62.45      62.06  421309.78   \n4980  600276.SH 2021-07-08  62.46  62.88  61.17  61.37      62.45  376692.99   \n4981  600276.SH 2021-07-09  61.02  62.32  60.90  62.10      61.37  317139.65   \n4982  600276.SH 2021-07-12  63.50  64.50  62.99  63.12      62.10  599866.95   \n4983  600276.SH 2021-07-13  63.12  63.41  61.76  61.94      63.12  381454.68   \n\n           amount  pct_change  adj_factor    hfq_close  qfq_close   qfq_open  \\\n0      748996.054    1.312187    2.312187    27.700000   0.539516   0.523544   \n1      214900.952   -0.017690    2.271285    27.210000   0.529972   0.537763   \n2      138248.375    0.019846    2.316361    27.750000   0.540489   0.525492   \n3       59486.626    0.005405    2.328881    27.900000   0.543411   0.543021   \n4       74935.642    0.013620    2.360601    28.280000   0.550812   0.544969   \n...           ...         ...         ...          ...        ...        ...   \n4979  2645435.620    0.006284  267.640269  3206.330428  62.450000  62.290000   \n4980  2325415.956   -0.017294  263.011743  3150.880679  61.370000  62.460000   \n4981  1956917.068    0.011895  266.140284  3188.360602  62.100000  61.020000   \n4982  3823509.581    0.016425  270.511670  3240.729810  63.120000  63.500000   \n4983  2377792.672   -0.018695  265.454576  3180.145824  61.940000  63.120000   \n\n       qfq_high    qfq_low     hfq_open     hfq_high      hfq_low  \\\n0      0.539516   0.539516    26.880000    27.700000    27.700000   \n1      0.529972   0.529972    27.610000    27.210000    27.210000   \n2      0.540489   0.540489    26.980000    27.750000    27.750000   \n3      0.543411   0.543411    27.880000    27.900000    27.900000   \n4      0.550812   0.550812    27.980000    28.280000    28.280000   \n...         ...        ...          ...          ...          ...   \n4979  62.450000  62.450000  3198.115651  3206.330428  3206.330428   \n4980  61.370000  61.370000  3206.843852  3150.880679  3150.880679   \n4981  62.100000  62.100000  3132.910853  3188.360602  3188.360602   \n4982  63.120000  63.120000  3260.239907  3240.729810  3240.729810   \n4983  61.940000  61.940000  3240.729810  3180.145824  3180.145824   \n\n      hfq_close_pct  \n0               NaN  \n1         -0.017690  \n2          0.019846  \n3          0.005405  \n4          0.013620  \n...             ...  \n4979       0.006284  \n4980      -0.017294  \n4981       0.011895  \n4982       0.016425  \n4983      -0.018695  \n\n[4984 rows x 20 columns]",
      "text/html": "<div>\n<style scoped>\n    .dataframe tbody tr th:only-of-type {\n        vertical-align: middle;\n    }\n\n    .dataframe tbody tr th {\n        vertical-align: top;\n    }\n\n    .dataframe thead th {\n        text-align: right;\n    }\n</style>\n<table border=\"1\" class=\"dataframe\">\n  <thead>\n    <tr style=\"text-align: right;\">\n      <th></th>\n      <th>ts_code</th>\n      <th>trade_date</th>\n      <th>open</th>\n      <th>high</th>\n      <th>low</th>\n      <th>close</th>\n      <th>pre_close</th>\n      <th>vol</th>\n      <th>amount</th>\n      <th>pct_change</th>\n      <th>adj_factor</th>\n      <th>hfq_close</th>\n      <th>qfq_close</th>\n      <th>qfq_open</th>\n      <th>qfq_high</th>\n      <th>qfq_low</th>\n      <th>hfq_open</th>\n      <th>hfq_high</th>\n      <th>hfq_low</th>\n      <th>hfq_close_pct</th>\n    </tr>\n  </thead>\n  <tbody>\n    <tr>\n      <th>0</th>\n      <td>600276.SH</td>\n      <td>2000-10-18</td>\n      <td>26.88</td>\n      <td>28.45</td>\n      <td>26.50</td>\n      <td>27.70</td>\n      <td>11.98</td>\n      <td>271930.00</td>\n      <td>748996.054</td>\n      <td>1.312187</td>\n      <td>2.312187</td>\n      <td>27.700000</td>\n      <td>0.539516</td>\n      <td>0.523544</td>\n      <td>0.539516</td>\n      <td>0.539516</td>\n      <td>26.880000</td>\n      <td>27.700000</td>\n      <td>27.700000</td>\n      <td>NaN</td>\n    </tr>\n    <tr>\n      <th>1</th>\n      <td>600276.SH</td>\n      <td>2000-10-19</td>\n      <td>27.61</td>\n      <td>28.19</td>\n      <td>27.01</td>\n      <td>27.21</td>\n      <td>27.70</td>\n      <td>77476.00</td>\n      <td>214900.952</td>\n      <td>-0.017690</td>\n      <td>2.271285</td>\n      <td>27.210000</td>\n      <td>0.529972</td>\n      <td>0.537763</td>\n      <td>0.529972</td>\n      <td>0.529972</td>\n      <td>27.610000</td>\n      <td>27.210000</td>\n      <td>27.210000</td>\n      <td>-0.017690</td>\n    </tr>\n    <tr>\n      <th>2</th>\n      <td>600276.SH</td>\n      <td>2000-10-20</td>\n      <td>26.98</td>\n      <td>27.88</td>\n      <td>26.30</td>\n      <td>27.75</td>\n      <td>27.21</td>\n      <td>51195.00</td>\n      <td>138248.375</td>\n      <td>0.019846</td>\n      <td>2.316361</td>\n      <td>27.750000</td>\n      <td>0.540489</td>\n      <td>0.525492</td>\n      <td>0.540489</td>\n      <td>0.540489</td>\n      <td>26.980000</td>\n      <td>27.750000</td>\n      <td>27.750000</td>\n      <td>0.019846</td>\n    </tr>\n    <tr>\n      <th>3</th>\n      <td>600276.SH</td>\n      <td>2000-10-23</td>\n      <td>27.88</td>\n      <td>28.09</td>\n      <td>27.40</td>\n      <td>27.90</td>\n      <td>27.75</td>\n      <td>21437.00</td>\n      <td>59486.626</td>\n      <td>0.005405</td>\n      <td>2.328881</td>\n      <td>27.900000</td>\n      <td>0.543411</td>\n      <td>0.543021</td>\n      <td>0.543411</td>\n      <td>0.543411</td>\n      <td>27.880000</td>\n      <td>27.900000</td>\n      <td>27.900000</td>\n      <td>0.005405</td>\n    </tr>\n    <tr>\n      <th>4</th>\n      <td>600276.SH</td>\n      <td>2000-10-24</td>\n      <td>27.98</td>\n      <td>28.56</td>\n      <td>27.61</td>\n      <td>28.28</td>\n      <td>27.90</td>\n      <td>26559.00</td>\n      <td>74935.642</td>\n      <td>0.013620</td>\n      <td>2.360601</td>\n      <td>28.280000</td>\n      <td>0.550812</td>\n      <td>0.544969</td>\n      <td>0.550812</td>\n      <td>0.550812</td>\n      <td>27.980000</td>\n      <td>28.280000</td>\n      <td>28.280000</td>\n      <td>0.013620</td>\n    </tr>\n    <tr>\n      <th>...</th>\n      <td>...</td>\n      <td>...</td>\n      <td>...</td>\n      <td>...</td>\n      <td>...</td>\n      <td>...</td>\n      <td>...</td>\n      <td>...</td>\n      <td>...</td>\n      <td>...</td>\n      <td>...</td>\n      <td>...</td>\n      <td>...</td>\n      <td>...</td>\n      <td>...</td>\n      <td>...</td>\n      <td>...</td>\n      <td>...</td>\n      <td>...</td>\n      <td>...</td>\n    </tr>\n    <tr>\n      <th>4979</th>\n      <td>600276.SH</td>\n      <td>2021-07-07</td>\n      <td>62.29</td>\n      <td>63.49</td>\n      <td>62.26</td>\n      <td>62.45</td>\n      <td>62.06</td>\n      <td>421309.78</td>\n      <td>2645435.620</td>\n      <td>0.006284</td>\n      <td>267.640269</td>\n      <td>3206.330428</td>\n      <td>62.450000</td>\n      <td>62.290000</td>\n      <td>62.450000</td>\n      <td>62.450000</td>\n      <td>3198.115651</td>\n      <td>3206.330428</td>\n      <td>3206.330428</td>\n      <td>0.006284</td>\n    </tr>\n    <tr>\n      <th>4980</th>\n      <td>600276.SH</td>\n      <td>2021-07-08</td>\n      <td>62.46</td>\n      <td>62.88</td>\n      <td>61.17</td>\n      <td>61.37</td>\n      <td>62.45</td>\n      <td>376692.99</td>\n      <td>2325415.956</td>\n      <td>-0.017294</td>\n      <td>263.011743</td>\n      <td>3150.880679</td>\n      <td>61.370000</td>\n      <td>62.460000</td>\n      <td>61.370000</td>\n      <td>61.370000</td>\n      <td>3206.843852</td>\n      <td>3150.880679</td>\n      <td>3150.880679</td>\n      <td>-0.017294</td>\n    </tr>\n    <tr>\n      <th>4981</th>\n      <td>600276.SH</td>\n      <td>2021-07-09</td>\n      <td>61.02</td>\n      <td>62.32</td>\n      <td>60.90</td>\n      <td>62.10</td>\n      <td>61.37</td>\n      <td>317139.65</td>\n      <td>1956917.068</td>\n      <td>0.011895</td>\n      <td>266.140284</td>\n      <td>3188.360602</td>\n      <td>62.100000</td>\n      <td>61.020000</td>\n      <td>62.100000</td>\n      <td>62.100000</td>\n      <td>3132.910853</td>\n      <td>3188.360602</td>\n      <td>3188.360602</td>\n      <td>0.011895</td>\n    </tr>\n    <tr>\n      <th>4982</th>\n      <td>600276.SH</td>\n      <td>2021-07-12</td>\n      <td>63.50</td>\n      <td>64.50</td>\n      <td>62.99</td>\n      <td>63.12</td>\n      <td>62.10</td>\n      <td>599866.95</td>\n      <td>3823509.581</td>\n      <td>0.016425</td>\n      <td>270.511670</td>\n      <td>3240.729810</td>\n      <td>63.120000</td>\n      <td>63.500000</td>\n      <td>63.120000</td>\n      <td>63.120000</td>\n      <td>3260.239907</td>\n      <td>3240.729810</td>\n      <td>3240.729810</td>\n      <td>0.016425</td>\n    </tr>\n    <tr>\n      <th>4983</th>\n      <td>600276.SH</td>\n      <td>2021-07-13</td>\n      <td>63.12</td>\n      <td>63.41</td>\n      <td>61.76</td>\n      <td>61.94</td>\n      <td>63.12</td>\n      <td>381454.68</td>\n      <td>2377792.672</td>\n      <td>-0.018695</td>\n      <td>265.454576</td>\n      <td>3180.145824</td>\n      <td>61.940000</td>\n      <td>63.120000</td>\n      <td>61.940000</td>\n      <td>61.940000</td>\n      <td>3240.729810</td>\n      <td>3180.145824</td>\n      <td>3180.145824</td>\n      <td>-0.018695</td>\n    </tr>\n  </tbody>\n</table>\n<p>4984 rows × 20 columns</p>\n</div>"
     },
     "execution_count": 5,
     "metadata": {},
     "output_type": "execute_result"
    }
   ],
   "source": [
    "from acquire import stock\n",
    "from util import location\n",
    "df = location.read_from_csv(ts_code=\"600276.SH\",root=\"../data_store/\")\n",
    "ind = stock.Indicators(df)\n",
    "df = ind.pct_change()\n",
    "df"
   ],
   "metadata": {
    "collapsed": false,
    "pycharm": {
     "name": "#%%\n"
    }
   }
  }
 ],
 "metadata": {
  "kernelspec": {
   "display_name": "Python 3",
   "language": "python",
   "name": "python3"
  },
  "language_info": {
   "codemirror_mode": {
    "name": "ipython",
    "version": 2
   },
   "file_extension": ".py",
   "mimetype": "text/x-python",
   "name": "python",
   "nbconvert_exporter": "python",
   "pygments_lexer": "ipython2",
   "version": "2.7.6"
  }
 },
 "nbformat": 4,
 "nbformat_minor": 0
}